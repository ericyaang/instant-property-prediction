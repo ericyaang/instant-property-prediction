{
 "cells": [
  {
   "cell_type": "code",
   "execution_count": 1,
   "metadata": {},
   "outputs": [],
   "source": [
    "from src.train import cv_eval"
   ]
  },
  {
   "cell_type": "code",
   "execution_count": 2,
   "metadata": {},
   "outputs": [],
   "source": [
    "import pandas as pd\n",
    "from geopy.geocoders import Nominatim\n",
    "from geopy.extra.rate_limiter import RateLimiter\n",
    "import streamlit.components.v1 as components\n",
    "from src import app_utils\n"
   ]
  },
  {
   "cell_type": "code",
   "execution_count": 3,
   "metadata": {},
   "outputs": [],
   "source": [
    "import joblib\n",
    "from pathlib import Path\n",
    "from config import config\n",
    "\n",
    "\n",
    "def load_models():\n",
    "    model_lower = joblib.load(Path(config.MODEL_REGISTRY, \"Lower_final.bin\"))\n",
    "    model_median = joblib.load(Path(config.MODEL_REGISTRY, \"Median_final.bin\"))\n",
    "    model_upper = joblib.load(Path(config.MODEL_REGISTRY, \"Upper_final.bin\"))\n",
    "    return (model_lower, model_median, model_upper)"
   ]
  },
  {
   "cell_type": "code",
   "execution_count": 4,
   "metadata": {},
   "outputs": [],
   "source": []
  },
  {
   "cell_type": "code",
   "execution_count": 8,
   "metadata": {},
   "outputs": [],
   "source": [
    "from src import main\n",
    "train, valid, test = main.generate_splits()"
   ]
  },
  {
   "cell_type": "code",
   "execution_count": 16,
   "metadata": {},
   "outputs": [],
   "source": [
    "train_prep, valid_prep = main.prepare_splits(train, valid)"
   ]
  },
  {
   "cell_type": "code",
   "execution_count": 18,
   "metadata": {},
   "outputs": [],
   "source": [
    "def train_models(experiment_name, run_name, df):\n",
    "    model_lower, model_median, model_upper = load_models()\n",
    "\n",
    "    pipe_dict = {\"Lower\": model_lower, \"Median\": model_median, \"Upper\": model_upper}\n",
    "\n",
    "    train.train_cv(\n",
    "            experiment_name=experiment_name,\n",
    "            run_name=run_name,\n",
    "            pipe_dict=pipe_dict,\n",
    "            df=df,\n",
    "            params=lgb_params,\n",
    "            n_splits=5,\n",
    "        )\n",
    "    return "
   ]
  }
 ],
 "metadata": {
  "kernelspec": {
   "display_name": "Python 3.8.13 ('floripa-housing')",
   "language": "python",
   "name": "python3"
  },
  "language_info": {
   "codemirror_mode": {
    "name": "ipython",
    "version": 3
   },
   "file_extension": ".py",
   "mimetype": "text/x-python",
   "name": "python",
   "nbconvert_exporter": "python",
   "pygments_lexer": "ipython3",
   "version": "3.8.13"
  },
  "orig_nbformat": 4,
  "vscode": {
   "interpreter": {
    "hash": "20b9bf9ac9be47ab4a3ef2d3f401e1f10352f51400997f5d113872df2eea5b63"
   }
  }
 },
 "nbformat": 4,
 "nbformat_minor": 2
}
